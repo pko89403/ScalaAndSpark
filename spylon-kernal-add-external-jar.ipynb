{
 "cells": [
  {
   "cell_type": "code",
   "execution_count": 1,
   "id": "committed-stuff",
   "metadata": {},
   "outputs": [
    {
     "data": {
      "text/plain": [
       "Intitializing Scala interpreter ..."
      ]
     },
     "metadata": {},
     "output_type": "display_data"
    },
    {
     "data": {
      "text/plain": [
       "Spark Web UI available at http://834b747a9f5c:4040\n",
       "SparkContext available as 'sc' (version = 3.0.1, master = spark://spark-master:7077, app id = app-20210218135020-0008)\n",
       "SparkSession available as 'spark'\n"
      ]
     },
     "metadata": {},
     "output_type": "display_data"
    },
    {
     "ename": "<console>",
     "evalue": " error: incomplete input",
     "output_type": "error",
     "traceback": [
      "<console>: error: incomplete input"
     ]
    }
   ],
   "source": [
    "%AddJar http://central.maven.org/maven2/mysql/mysql-connector-java/5.1.15/mysql-connector-java-5.1.15.jar"
   ]
  },
  {
   "cell_type": "code",
   "execution_count": 1,
   "id": "reported-strength",
   "metadata": {},
   "outputs": [
    {
     "data": {
      "text/plain": [
       "Intitializing Scala interpreter ..."
      ]
     },
     "metadata": {},
     "output_type": "display_data"
    },
    {
     "data": {
      "text/plain": [
       "Spark Web UI available at http://834b747a9f5c:4040\n",
       "SparkContext available as 'sc' (version = 3.0.1, master = spark://spark-master:7077, app id = app-20210218133715-0004)\n",
       "SparkSession available as 'spark'\n"
      ]
     },
     "metadata": {},
     "output_type": "display_data"
    },
    {
     "data": {
      "text/plain": [
       "import org.apache.spark.sql.SparkSession\n",
       "spark: org.apache.spark.sql.SparkSession = org.apache.spark.sql.SparkSession@72f1839f\n"
      ]
     },
     "execution_count": 1,
     "metadata": {},
     "output_type": "execute_result"
    }
   ],
   "source": [
    "import org.apache.spark.sql.SparkSession\n",
    "\n",
    "val spark= SparkSession\n",
    "    .builder()\n",
    "    .config(\"spark.jars\", \"/opt/jar/spark-xml_2.12-0.9.0.jar\")\n",
    "    .appName(\"test-add-external-jar\")\n",
    "    .getOrCreate()"
   ]
  },
  {
   "cell_type": "code",
   "execution_count": 2,
   "id": "phantom-newspaper",
   "metadata": {},
   "outputs": [],
   "source": [
    "spark.sparkContext.addFile(\"/opt/jar/spark-xml_2.12-0.9.0.jar\")"
   ]
  },
  {
   "cell_type": "code",
   "execution_count": 3,
   "id": "equal-brighton",
   "metadata": {},
   "outputs": [
    {
     "ename": "<console>",
     "evalue": "27: error: object databricks is not a member of package com",
     "output_type": "error",
     "traceback": [
      "<console>:27: error: object databricks is not a member of package com",
      "       import com.databricks.spark.xml._",
      "                  ^",
      "<console>:29: error: value xml is not a member of org.apache.spark.sql.DataFrameReader",
      "       val rawXML = spark.read.option(\"rowTag\", \"MedlineCitation\").xml(\"hdfs://namenode:8020/medline/medsamp2016a.xml\")",
      "                                                                   ^",
      ""
     ]
    }
   ],
   "source": [
    "import com.databricks.spark.xml._\n",
    "\n",
    "val rawXML = spark.read.option(\"rowTag\", \"MedlineCitation\").xml(\"hdfs://namenode:8020/medline/medsamp2016a.xml\")"
   ]
  },
  {
   "cell_type": "code",
   "execution_count": null,
   "id": "athletic-guide",
   "metadata": {},
   "outputs": [],
   "source": []
  }
 ],
 "metadata": {
  "kernelspec": {
   "display_name": "spylon-kernel",
   "language": "scala",
   "name": "spylon-kernel"
  },
  "language_info": {
   "codemirror_mode": "text/x-scala",
   "file_extension": ".scala",
   "help_links": [
    {
     "text": "MetaKernel Magics",
     "url": "https://metakernel.readthedocs.io/en/latest/source/README.html"
    }
   ],
   "mimetype": "text/x-scala",
   "name": "scala",
   "pygments_lexer": "scala",
   "version": "0.4.1"
  }
 },
 "nbformat": 4,
 "nbformat_minor": 5
}
